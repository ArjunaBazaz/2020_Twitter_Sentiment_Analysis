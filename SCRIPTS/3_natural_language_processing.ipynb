{
  "cells": [
    {
      "cell_type": "code",
      "execution_count": 1,
      "metadata": {
        "id": "_LGy-qCuHuH3"
      },
      "outputs": [],
      "source": [
        "def analyze_sentiment(text):\n",
        "\n",
        "    # Initialize the SentimentIntensityAnalyzer\n",
        "    sia = SentimentIntensityAnalyzer()\n",
        "\n",
        "    # Get the sentiment scores\n",
        "    sentiment_scores = sia.polarity_scores(text)\n",
        "\n",
        "    return sentiment_scores['pos']-sentiment_scores['neg']"
      ]
    },
    {
      "cell_type": "code",
      "execution_count": 4,
      "metadata": {
        "colab": {
          "base_uri": "https://localhost:8080/"
        },
        "id": "aup2zHb1cZ8V",
        "outputId": "30ca3a4b-a030-40d6-8643-afee65303392"
      },
      "outputs": [
        {
          "name": "stderr",
          "output_type": "stream",
          "text": [
            "[nltk_data] Downloading package vader_lexicon to C:\\Users\\Arjuna\n",
            "[nltk_data]     Bazaz\\AppData\\Roaming\\nltk_data...\n",
            "[nltk_data]   Package vader_lexicon is already up-to-date!\n"
          ]
        },
        {
          "name": "stdout",
          "output_type": "stream",
          "text": [
            "Sentiment analysis completed. Results saved as:\n",
            "- debate_tweets_with_sentiment.csv (individual tweet sentiment)\n",
            "- candidate_sentiment_summary.csv (sentiment summary by candidate)\n"
          ]
        }
      ],
      "source": [
        "import pandas as pd\n",
        "import nltk\n",
        "from nltk.sentiment import SentimentIntensityAnalyzer\n",
        "nltk.download('vader_lexicon')\n",
        "file_path = \"debate_tweets_cleaned.csv\"  # Update the path if needed\n",
        "df = pd.read_csv(file_path)\n",
        "sia = SentimentIntensityAnalyzer()\n",
        "\n",
        "# Function to analyze sentiment\n",
        "def analyze_sentiment(text):\n",
        "    sentiment_scores = sia.polarity_scores(str(text))  # Convert to string to avoid errors\n",
        "    compound_score = sentiment_scores['compound']\n",
        "\n",
        "\n",
        "    if compound_score >= 0.05:\n",
        "        sentiment_category = \"Positive\"\n",
        "    elif compound_score <= -0.05:\n",
        "        sentiment_category = \"Negative\"\n",
        "    else:\n",
        "        sentiment_category = \"Neutral\"\n",
        "\n",
        "    return compound_score, sentiment_category\n",
        "\n",
        "# Apply sentiment analysis to each tweet\n",
        "df[['Compound_Score', 'Sentiment']] = df['tweet'].apply(lambda x: pd.Series(analyze_sentiment(x)))\n",
        "\n",
        "# Separate sentiment by candidate\n",
        "sentiment_by_candidate = df.groupby(['about', 'Sentiment']).size().unstack().fillna(0)\n",
        "df.to_csv(\"..\\DATA\\debate_tweets_with_sentiment.csv\", index=False)\n",
        "sentiment_by_candidate.to_csv(\"..\\DATA\\candidate_sentiment_summary.csv\")\n",
        "print(\"Sentiment analysis completed. Results saved as:\")\n",
        "print(\"- debate_tweets_with_sentiment.csv (individual tweet sentiment)\")\n",
        "print(\"- candidate_sentiment_summary.csv (sentiment summary by candidate)\")"
      ]
    },
    {
      "cell_type": "code",
      "execution_count": null,
      "metadata": {
        "colab": {
          "base_uri": "https://localhost:8080/",
          "height": 756
        },
        "id": "2eebZ8lIHuH4",
        "outputId": "1c651314-cffa-4984-a13a-5ae7282d8e80"
      },
      "outputs": [],
      "source": []
    }
  ],
  "metadata": {
    "colab": {
      "provenance": []
    },
    "kernelspec": {
      "display_name": "base",
      "language": "python",
      "name": "python3"
    },
    "language_info": {
      "codemirror_mode": {
        "name": "ipython",
        "version": 3
      },
      "file_extension": ".py",
      "mimetype": "text/x-python",
      "name": "python",
      "nbconvert_exporter": "python",
      "pygments_lexer": "ipython3",
      "version": "3.11.5"
    }
  },
  "nbformat": 4,
  "nbformat_minor": 0
}
