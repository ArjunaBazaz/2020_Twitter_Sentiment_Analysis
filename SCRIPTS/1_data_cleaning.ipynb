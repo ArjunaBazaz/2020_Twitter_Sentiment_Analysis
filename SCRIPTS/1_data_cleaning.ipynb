{
 "cells": [
  {
   "cell_type": "markdown",
   "metadata": {},
   "source": [
    "Import necessary packages. <br>\n",
    "\n",
    "If no extra analysis is needed, this file can all be skipped, and debate_tweets_cleaned.csv can be used for all analysis."
   ]
  },
  {
   "cell_type": "code",
   "execution_count": 1,
   "metadata": {},
   "outputs": [],
   "source": [
    "import pandas as pd"
   ]
  },
  {
   "cell_type": "markdown",
   "metadata": {},
   "source": [
    "Code to turn turn initial Kaggle dataset and filter out the tweets from the time around the debate."
   ]
  },
  {
   "cell_type": "code",
   "execution_count": 5,
   "metadata": {},
   "outputs": [],
   "source": [
    "new_filename = '..\\DATA\\debate_tweets.csv'\n",
    "df_original_trump = pd.read_csv('..\\hashtag_donaldtrump.csv', lineterminator='\\n')\n",
    "df_original_biden = pd.read_csv('..\\hashtag_joebiden.csv', lineterminator='\\n')\n",
    "\n",
    "df_cleaned_trump = df_original_trump[df_original_trump['created_at'] >= '2020-10-21']\n",
    "df_cleaned_biden = df_original_biden[df_original_biden['created_at'] >= '2020-10-21']\n",
    "\n",
    "df_cleaned_trump = df_cleaned_trump[df_cleaned_trump['created_at'] <= '2020-10-24']\n",
    "df_cleaned_biden = df_cleaned_biden[df_cleaned_biden['created_at'] <= '2020-10-24']\n",
    "\n",
    "df_cleaned_trump['about'] = 'trump'\n",
    "df_cleaned_biden['about'] = 'biden'\n",
    "\n",
    "df_new = pd.concat([df_cleaned_trump, df_cleaned_biden], ignore_index=True)\n",
    "\n",
    "df_new.to_csv(new_filename, index=False)"
   ]
  },
  {
   "cell_type": "markdown",
   "metadata": {},
   "source": [
    "Code to remove unecessary columns and create a new cleaned csv file."
   ]
  },
  {
   "cell_type": "code",
   "execution_count": 6,
   "metadata": {},
   "outputs": [
    {
     "name": "stdout",
     "output_type": "stream",
     "text": [
      "22\n"
     ]
    }
   ],
   "source": [
    "df = pd.read_csv(\"..\\DATA\\debate_tweets.csv\")\n",
    "\n",
    "print(len(df.columns))\n",
    "\n",
    "df.drop(['tweet_id', 'source', 'user_id', 'user_description', 'user_join_date', 'user_name', 'user_screen_name', 'lat', 'long', 'city', 'continent', 'state_code', 'collected_at'], axis=1, inplace=True)\n",
    "\n",
    "df.to_csv(\"..\\DATA\\debate_tweets_cleaned.csv\", index=False)"
   ]
  }
 ],
 "metadata": {
  "kernelspec": {
   "display_name": "base",
   "language": "python",
   "name": "python3"
  },
  "language_info": {
   "codemirror_mode": {
    "name": "ipython",
    "version": 3
   },
   "file_extension": ".py",
   "mimetype": "text/x-python",
   "name": "python",
   "nbconvert_exporter": "python",
   "pygments_lexer": "ipython3",
   "version": "3.11.5"
  }
 },
 "nbformat": 4,
 "nbformat_minor": 2
}
