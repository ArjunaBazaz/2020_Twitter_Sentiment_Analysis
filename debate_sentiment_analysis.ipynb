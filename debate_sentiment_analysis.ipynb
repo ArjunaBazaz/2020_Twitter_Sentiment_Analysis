{
 "cells": [
  {
   "cell_type": "code",
   "execution_count": 1,
   "metadata": {},
   "outputs": [],
   "source": [
    "import pandas as pd\n",
    "import nltk"
   ]
  },
  {
   "cell_type": "code",
   "execution_count": null,
   "metadata": {},
   "outputs": [],
   "source": [
    "new_filename = 'debate_tweets.csv'\n",
    "df_original_trump = pd.read_csv('filename_trump') #Add filename\n",
    "df_original_biden = pd.read_csv('filename_biden') #Add filename\n",
    "\n",
    "df_cleaned_trump = df_original_trump[df_original_trump['date'] >= '2020-10-22']\n",
    "df_cleaned_biden = df_original_biden[df_original_biden['date'] >= '2020-10-22']\n",
    "\n",
    "df_cleaned_trump = df_cleaned_trump[df_cleaned_trump['date'] <= '2020-10-23']\n",
    "df_cleaned_biden = df_cleaned_biden[df_cleaned_biden['date'] <= '2020-10-23']\n",
    "\n",
    "df_cleaned_trump = df_cleaned_trump(new_column='trump')\n",
    "df_cleaned_biden = df_cleaned_biden(new_column='biden')\n",
    "\n",
    "df_new = pd.concat([df_cleaned_trump, df_cleaned_biden], ignore_index=True)\n",
    "\n",
    "df_new.to_csv(new_filename, index=False)"
   ]
  }
 ],
 "metadata": {
  "kernelspec": {
   "display_name": "base",
   "language": "python",
   "name": "python3"
  },
  "language_info": {
   "codemirror_mode": {
    "name": "ipython",
    "version": 3
   },
   "file_extension": ".py",
   "mimetype": "text/x-python",
   "name": "python",
   "nbconvert_exporter": "python",
   "pygments_lexer": "ipython3",
   "version": "3.11.5"
  }
 },
 "nbformat": 4,
 "nbformat_minor": 2
}
